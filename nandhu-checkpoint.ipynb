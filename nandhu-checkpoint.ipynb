{
 "cells": [
  {
   "cell_type": "code",
   "execution_count": 1,
   "id": "8e8210d0-a02f-48da-86f9-762626ba874a",
   "metadata": {},
   "outputs": [
    {
     "name": "stdout",
     "output_type": "stream",
     "text": [
      "Requirement already satisfied: pytesseract in c:\\users\\admin\\anaconda3\\envs\\nandhu\\lib\\site-packages (0.3.10)\n",
      "Requirement already satisfied: packaging>=21.3 in c:\\users\\admin\\anaconda3\\envs\\nandhu\\lib\\site-packages (from pytesseract) (23.1)\n",
      "Requirement already satisfied: Pillow>=8.0.0 in c:\\users\\admin\\anaconda3\\envs\\nandhu\\lib\\site-packages (from pytesseract) (10.2.0)\n",
      "Note: you may need to restart the kernel to use updated packages.\n"
     ]
    }
   ],
   "source": [
    "pip install pytesseract"
   ]
  },
  {
   "cell_type": "code",
   "execution_count": 2,
   "id": "ec7b4eb4-a68a-4df4-beb9-ab740ffb0a63",
   "metadata": {},
   "outputs": [
    {
     "name": "stdout",
     "output_type": "stream",
     "text": [
      "Requirement already satisfied: OpenCV-python in c:\\users\\admin\\anaconda3\\envs\\nandhu\\lib\\site-packages (4.9.0.80)\n",
      "Requirement already satisfied: numpy>=1.17.0 in c:\\users\\admin\\anaconda3\\envs\\nandhu\\lib\\site-packages (from OpenCV-python) (1.26.3)\n",
      "Note: you may need to restart the kernel to use updated packages.\n"
     ]
    }
   ],
   "source": [
    "pip install OpenCV-python"
   ]
  },
  {
   "cell_type": "code",
   "execution_count": 3,
   "id": "594e833c-d770-4eba-a7c9-a49469579cb0",
   "metadata": {},
   "outputs": [
    {
     "name": "stdout",
     "output_type": "stream",
     "text": [
      "Requirement already satisfied: db-sqlite3 in c:\\users\\admin\\anaconda3\\envs\\nandhu\\lib\\site-packages (0.0.1)\n",
      "Requirement already satisfied: db in c:\\users\\admin\\anaconda3\\envs\\nandhu\\lib\\site-packages (from db-sqlite3) (0.1.1)\n",
      "Requirement already satisfied: antiorm in c:\\users\\admin\\anaconda3\\envs\\nandhu\\lib\\site-packages (from db->db-sqlite3) (1.2.1)\n",
      "Note: you may need to restart the kernel to use updated packages.\n"
     ]
    }
   ],
   "source": [
    "pip install db-sqlite3"
   ]
  },
  {
   "cell_type": "code",
   "execution_count": 4,
   "id": "f9211cd2-7f32-4e34-acfe-67702ef3207d",
   "metadata": {},
   "outputs": [],
   "source": [
    "import cv2\n",
    "import pytesseract\n",
    "import sqlite3"
   ]
  },
  {
   "cell_type": "code",
   "execution_count": 5,
   "id": "29e10c71-e8cf-458c-99f9-162563df1ed8",
   "metadata": {},
   "outputs": [],
   "source": [
    "pytesseract.pytesseract.tesseract_cmd = r\"C:\\\\Program Files\\\\Tesseract-OCR\\\\tesseract.exe\"\n"
   ]
  },
  {
   "cell_type": "code",
   "execution_count": 6,
   "id": "a8cb2d94-34cc-4b12-8e0b-0cdae2be6688",
   "metadata": {},
   "outputs": [],
   "source": [
    "image = cv2.imread(\"C:\\\\Users\\\\ADMIN\\\\Pictures\\\\Saved Pictures\\\\new cert.jpg\")"
   ]
  },
  {
   "cell_type": "code",
   "execution_count": 7,
   "id": "be12655c-512b-4c2d-9ec1-936bec9bf11b",
   "metadata": {},
   "outputs": [],
   "source": [
    "def extract_text(image):\n",
    "    text=\"this is the extracted text.\"\n",
    "    return text"
   ]
  },
  {
   "cell_type": "code",
   "execution_count": 8,
   "id": "77733065-2485-456d-9786-76ab28040b40",
   "metadata": {},
   "outputs": [],
   "source": [
    "gray_image = cv2.cvtColor(image, cv2.COLOR_BGR2GRAY)"
   ]
  },
  {
   "cell_type": "code",
   "execution_count": 9,
   "id": "711deb09-6950-4b77-b56a-95d5c5398231",
   "metadata": {},
   "outputs": [
    {
     "data": {
      "text/plain": [
       "array([[178, 178, 178, ..., 178, 178, 178],\n",
       "       [177, 177, 177, ..., 177, 177, 177],\n",
       "       [176, 176, 176, ..., 176, 176, 176],\n",
       "       ...,\n",
       "       [177, 177, 177, ..., 177, 177, 177],\n",
       "       [177, 177, 177, ..., 177, 177, 177],\n",
       "       [177, 177, 177, ..., 177, 177, 177]], dtype=uint8)"
      ]
     },
     "execution_count": 9,
     "metadata": {},
     "output_type": "execute_result"
    }
   ],
   "source": [
    "gray_image"
   ]
  },
  {
   "cell_type": "code",
   "execution_count": 10,
   "id": "3e0715e9-9d21-4a63-8a4c-a25e031c0e00",
   "metadata": {},
   "outputs": [],
   "source": [
    "def extract_text(image):\n",
    "    extracted_text = pytesseract.image_to_string(gray_image)\n",
    "    return extracted_text"
   ]
  },
  {
   "cell_type": "code",
   "execution_count": 11,
   "id": "8493c7ad-6edb-4bca-87f7-ed04e5057b44",
   "metadata": {},
   "outputs": [],
   "source": [
    "def parse_content(extracted_text):\n",
    "    content=\"this is the conrtent\"\n",
    "    return content"
   ]
  },
  {
   "cell_type": "code",
   "execution_count": 12,
   "id": "e9e6ae08-f52e-4721-9e66-c6ab794a58d7",
   "metadata": {},
   "outputs": [
    {
     "ename": "NameError",
     "evalue": "name 'extracted_text' is not defined",
     "output_type": "error",
     "traceback": [
      "\u001b[1;31m---------------------------------------------------------------------------\u001b[0m",
      "\u001b[1;31mNameError\u001b[0m                                 Traceback (most recent call last)",
      "Cell \u001b[1;32mIn[12], line 1\u001b[0m\n\u001b[1;32m----> 1\u001b[0m lines \u001b[38;5;241m=\u001b[39m \u001b[43mextracted_text\u001b[49m\u001b[38;5;241m.\u001b[39msplit(\u001b[38;5;124m'\u001b[39m\u001b[38;5;130;01m\\n\u001b[39;00m\u001b[38;5;124m'\u001b[39m)\n",
      "\u001b[1;31mNameError\u001b[0m: name 'extracted_text' is not defined"
     ]
    }
   ],
   "source": [
    "lines = extracted_text.split('\\n')"
   ]
  },
  {
   "cell_type": "code",
   "execution_count": 13,
   "id": "58ba81dc-481b-4267-9036-365a3d70d26c",
   "metadata": {},
   "outputs": [],
   "source": [
    "def extract_text(image):\n",
    "    name = lines[1]\n",
    "    return name"
   ]
  },
  {
   "cell_type": "code",
   "execution_count": 14,
   "id": "c7c97673-c02f-48ca-b38f-73236e5dc234",
   "metadata": {},
   "outputs": [],
   "source": [
    "def store_in_database(name):\n",
    "        conn = sqlite3.connect(\"certificates.db\")\n",
    "        cursor = conn.cursor()\n",
    "        cursor.execute('''CREATE TABLE IF NOT EXISTS certificates \n",
    "                      (id INTEGER PRIMARY KEY AUTOINCREMENT,\n",
    "                       name TEXT)''')\n",
    "        cursor.execute('''INSERT INTO certificates (name) \n",
    "                      VALUES (?)''', (name))\n",
    "        conn.commit()\n",
    "        conn.close()\n",
    "\n"
   ]
  },
  {
   "cell_type": "code",
   "execution_count": 16,
   "id": "7d91154c-b7ee-4f71-9763-9e74fbb1f226",
   "metadata": {},
   "outputs": [
    {
     "name": "stdout",
     "output_type": "stream",
     "text": [
      "Certificate details extracted and stored successfully!\n"
     ]
    },
    {
     "ename": "NameError",
     "evalue": "name 'lines' is not defined",
     "output_type": "error",
     "traceback": [
      "\u001b[1;31m---------------------------------------------------------------------------\u001b[0m",
      "\u001b[1;31mNameError\u001b[0m                                 Traceback (most recent call last)",
      "Cell \u001b[1;32mIn[16], line 8\u001b[0m\n\u001b[0;32m      6\u001b[0m \u001b[38;5;28mprint\u001b[39m(\u001b[38;5;124m\"\u001b[39m\u001b[38;5;124mCertificate details extracted and stored successfully!\u001b[39m\u001b[38;5;124m\"\u001b[39m)\n\u001b[0;32m      7\u001b[0m \u001b[38;5;28;01mif\u001b[39;00m \u001b[38;5;18m__name__\u001b[39m \u001b[38;5;241m==\u001b[39m \u001b[38;5;124m\"\u001b[39m\u001b[38;5;124m__main__\u001b[39m\u001b[38;5;124m\"\u001b[39m:\n\u001b[1;32m----> 8\u001b[0m     \u001b[43mmain\u001b[49m\u001b[43m(\u001b[49m\u001b[43m)\u001b[49m\n",
      "Cell \u001b[1;32mIn[16], line 3\u001b[0m, in \u001b[0;36mmain\u001b[1;34m()\u001b[0m\n\u001b[0;32m      1\u001b[0m \u001b[38;5;28;01mdef\u001b[39;00m \u001b[38;5;21mmain\u001b[39m():\n\u001b[0;32m      2\u001b[0m     image_path \u001b[38;5;241m=\u001b[39m\u001b[38;5;124m\"\u001b[39m\u001b[38;5;124mC:\u001b[39m\u001b[38;5;130;01m\\\\\u001b[39;00m\u001b[38;5;124mUsers\u001b[39m\u001b[38;5;130;01m\\\\\u001b[39;00m\u001b[38;5;124mADMIN\u001b[39m\u001b[38;5;130;01m\\\\\u001b[39;00m\u001b[38;5;124mPictures\u001b[39m\u001b[38;5;130;01m\\\\\u001b[39;00m\u001b[38;5;124mSaved Pictures\u001b[39m\u001b[38;5;130;01m\\\\\u001b[39;00m\u001b[38;5;124mnew cert.jpg\u001b[39m\u001b[38;5;124m\"\u001b[39m\n\u001b[1;32m----> 3\u001b[0m     extracted_text \u001b[38;5;241m=\u001b[39m \u001b[43mextract_text\u001b[49m\u001b[43m(\u001b[49m\u001b[43mimage\u001b[49m\u001b[43m)\u001b[49m\n\u001b[0;32m      4\u001b[0m     name \u001b[38;5;241m=\u001b[39m parse_content(extracted_text)\n\u001b[0;32m      5\u001b[0m     store_in_database(name)\n",
      "Cell \u001b[1;32mIn[13], line 2\u001b[0m, in \u001b[0;36mextract_text\u001b[1;34m(image)\u001b[0m\n\u001b[0;32m      1\u001b[0m \u001b[38;5;28;01mdef\u001b[39;00m \u001b[38;5;21mextract_text\u001b[39m(image):\n\u001b[1;32m----> 2\u001b[0m     name \u001b[38;5;241m=\u001b[39m \u001b[43mlines\u001b[49m[\u001b[38;5;241m1\u001b[39m]\n\u001b[0;32m      3\u001b[0m     \u001b[38;5;28;01mreturn\u001b[39;00m name\n",
      "\u001b[1;31mNameError\u001b[0m: name 'lines' is not defined"
     ]
    }
   ],
   "source": [
    "def main():\n",
    "    image_path =\"C:\\\\Users\\\\ADMIN\\\\Pictures\\\\Saved Pictures\\\\new cert.jpg\"\n",
    "    extracted_text = extract_text(image_path)\n",
    "    name = parse_content(extracted_text)\n",
    "    store_in_database(name)\n",
    "print(\"Certificate details extracted and stored successfully!\")\n",
    "if __name__ == \"__main__\":\n",
    "    main()\n"
   ]
  },
  {
   "cell_type": "code",
   "execution_count": null,
   "id": "e2a0cba4-7027-4628-8365-e35b677cacac",
   "metadata": {},
   "outputs": [],
   "source": []
  }
 ],
 "metadata": {
  "kernelspec": {
   "display_name": "Python 3 (ipykernel)",
   "language": "python",
   "name": "python3"
  },
  "language_info": {
   "codemirror_mode": {
    "name": "ipython",
    "version": 3
   },
   "file_extension": ".py",
   "mimetype": "text/x-python",
   "name": "python",
   "nbconvert_exporter": "python",
   "pygments_lexer": "ipython3",
   "version": "3.9.18"
  }
 },
 "nbformat": 4,
 "nbformat_minor": 5
}
