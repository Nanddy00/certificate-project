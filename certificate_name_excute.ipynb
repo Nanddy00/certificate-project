{
 "cells": [
  {
   "cell_type": "code",
   "execution_count": 1,
   "id": "8e8210d0-a02f-48da-86f9-762626ba874a",
   "metadata": {
    "scrolled": true
   },
   "outputs": [
    {
     "name": "stdout",
     "output_type": "stream",
     "text": [
      "Requirement already satisfied: pytesseract in c:\\users\\lenovo\\anaconda3\\lib\\site-packages (0.3.10)\n",
      "Requirement already satisfied: packaging>=21.3 in c:\\users\\lenovo\\anaconda3\\lib\\site-packages (from pytesseract) (23.1)\n",
      "Requirement already satisfied: Pillow>=8.0.0 in c:\\users\\lenovo\\anaconda3\\lib\\site-packages (from pytesseract) (10.2.0)\n",
      "Note: you may need to restart the kernel to use updated packages.\n"
     ]
    }
   ],
   "source": [
    "pip install pytesseract"
   ]
  },
  {
   "cell_type": "code",
   "execution_count": 2,
   "id": "ec7b4eb4-a68a-4df4-beb9-ab740ffb0a63",
   "metadata": {},
   "outputs": [
    {
     "name": "stdout",
     "output_type": "stream",
     "text": [
      "Requirement already satisfied: OpenCV-python in c:\\users\\lenovo\\anaconda3\\lib\\site-packages (4.9.0.80)\n",
      "Requirement already satisfied: numpy>=1.21.2 in c:\\users\\lenovo\\anaconda3\\lib\\site-packages (from OpenCV-python) (1.24.3)\n",
      "Note: you may need to restart the kernel to use updated packages.\n"
     ]
    }
   ],
   "source": [
    "pip install OpenCV-python"
   ]
  },
  {
   "cell_type": "code",
   "execution_count": 3,
   "id": "594e833c-d770-4eba-a7c9-a49469579cb0",
   "metadata": {},
   "outputs": [
    {
     "name": "stdout",
     "output_type": "stream",
     "text": [
      "Requirement already satisfied: db-sqlite3 in c:\\users\\lenovo\\anaconda3\\lib\\site-packages (0.0.1)Note: you may need to restart the kernel to use updated packages.\n",
      "\n",
      "Requirement already satisfied: db in c:\\users\\lenovo\\anaconda3\\lib\\site-packages (from db-sqlite3) (0.1.1)\n",
      "Requirement already satisfied: antiorm in c:\\users\\lenovo\\anaconda3\\lib\\site-packages (from db->db-sqlite3) (1.2.1)\n"
     ]
    }
   ],
   "source": [
    "pip install db-sqlite3"
   ]
  },
  {
   "cell_type": "code",
   "execution_count": 4,
   "id": "f9211cd2-7f32-4e34-acfe-67702ef3207d",
   "metadata": {},
   "outputs": [],
   "source": [
    "import cv2\n",
    "import pytesseract\n",
    "import sqlite3"
   ]
  },
  {
   "cell_type": "code",
   "execution_count": 5,
   "id": "29e10c71-e8cf-458c-99f9-162563df1ed8",
   "metadata": {},
   "outputs": [],
   "source": [
    "pytesseract.pytesseract.tesseract_cmd = r\"C:\\\\Program Files\\\\Tesseract-OCR\\\\tesseract.exe\"\n"
   ]
  },
  {
   "cell_type": "code",
   "execution_count": 6,
   "id": "a8cb2d94-34cc-4b12-8e0b-0cdae2be6688",
   "metadata": {},
   "outputs": [],
   "source": [
    "image = cv2.imread(\"C:\\\\Users\\\\Lenovo\\\\Documents\\\\nandhu python\\\\certificate_new.jpg\")"
   ]
  },
  {
   "cell_type": "code",
   "execution_count": 7,
   "id": "be12655c-512b-4c2d-9ec1-936bec9bf11b",
   "metadata": {},
   "outputs": [],
   "source": [
    "def extract_text(image):\n",
    "    text=\"this is the extracted text.\"\n",
    "    return text"
   ]
  },
  {
   "cell_type": "code",
   "execution_count": 8,
   "id": "77733065-2485-456d-9786-76ab28040b40",
   "metadata": {},
   "outputs": [],
   "source": [
    "gray_image = cv2.cvtColor(image, cv2.COLOR_BGR2GRAY)\n"
   ]
  },
  {
   "cell_type": "code",
   "execution_count": 9,
   "id": "711deb09-6950-4b77-b56a-95d5c5398231",
   "metadata": {},
   "outputs": [
    {
     "data": {
      "text/plain": [
       "array([[208, 235, 253, ..., 174, 163, 159],\n",
       "       [228, 247, 254, ..., 165, 153, 141],\n",
       "       [236, 250, 254, ..., 165, 152, 140],\n",
       "       ...,\n",
       "       [ 64,  82, 123, ..., 255, 255, 255],\n",
       "       [ 88,  89, 106, ..., 255, 255, 255],\n",
       "       [ 97,  78,  94, ..., 255, 255, 255]], dtype=uint8)"
      ]
     },
     "execution_count": 9,
     "metadata": {},
     "output_type": "execute_result"
    }
   ],
   "source": [
    "gray_image"
   ]
  },
  {
   "cell_type": "code",
   "execution_count": 10,
   "id": "3e0715e9-9d21-4a63-8a4c-a25e031c0e00",
   "metadata": {},
   "outputs": [],
   "source": [
    "def extract_text(image):\n",
    "    extracted_text = pytesseract.image_to_string(gray_image)\n",
    "    return extracted_text\n",
    "    "
   ]
  },
  {
   "cell_type": "code",
   "execution_count": 11,
   "id": "8493c7ad-6edb-4bca-87f7-ed04e5057b44",
   "metadata": {},
   "outputs": [],
   "source": [
    "def parse_content(extracted_text):\n",
    "    content=\"this is the conrtent\"\n",
    "    return content"
   ]
  },
  {
   "cell_type": "code",
   "execution_count": 12,
   "id": "d3597939",
   "metadata": {},
   "outputs": [],
   "source": [
    "text=extract_text(image)"
   ]
  },
  {
   "cell_type": "code",
   "execution_count": 13,
   "id": "e9e6ae08-f52e-4721-9e66-c6ab794a58d7",
   "metadata": {
    "scrolled": true
   },
   "outputs": [],
   "source": [
    "lines = text.split('\\n')"
   ]
  },
  {
   "cell_type": "code",
   "execution_count": 14,
   "id": "58ba81dc-481b-4267-9036-365a3d70d26c",
   "metadata": {},
   "outputs": [],
   "source": [
    "def extract_text(image):\n",
    "    name = lines[1]\n",
    "    return name"
   ]
  },
  {
   "cell_type": "code",
   "execution_count": 3,
   "id": "c7c97673-c02f-48ca-b38f-73236e5dc234",
   "metadata": {},
   "outputs": [],
   "source": [
    "def store_in_database(name):\n",
    "        conn = sqlite3.connect(\"certificates.db\")\n",
    "        cursor = conn.cursor()\n",
    "        cursor.execute('''CREATE TABLE IF NOT EXISTS certificates (id INTEGER PRIMARY KEY AUTOINCREMENT, name TEXT,certificate_type TEXT)''')\n",
    "        cursor.execute('''INSERT INTO certificates (name,certificate_type) VALUES (?,?)''', (name,certificate_type))\n",
    "        conn.commit()\n",
    "        conn.close()\n",
    "        import os\n",
    "def main():\n",
    "        current_dir = os.getcwd()\n",
    "        image_filename = 'certificate_new.jpg'\n",
    "        image_path = os.path.join(current_dir, image_filename)\n",
    "        print(image_path)\n",
    "        extracted_text = extract_text(image_path)\n",
    "        name = parse_content(extracted_text)\n",
    "        store_in_database(name)\n",
    "        print(\"Certificate details extracted and stored successfully!\")\n",
    "        if __name__ == \"__main__\": main()\n",
    "\n"
   ]
  },
  {
   "cell_type": "code",
   "execution_count": null,
   "id": "30eec070",
   "metadata": {},
   "outputs": [],
   "source": []
  }
 ],
 "metadata": {
  "kernelspec": {
   "display_name": "Python 3 (ipykernel)",
   "language": "python",
   "name": "python3"
  },
  "language_info": {
   "codemirror_mode": {
    "name": "ipython",
    "version": 3
   },
   "file_extension": ".py",
   "mimetype": "text/x-python",
   "name": "python",
   "nbconvert_exporter": "python",
   "pygments_lexer": "ipython3",
   "version": "3.11.5"
  }
 },
 "nbformat": 4,
 "nbformat_minor": 5
}
